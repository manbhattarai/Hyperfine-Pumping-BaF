{
 "cells": [
  {
   "cell_type": "code",
   "execution_count": 1,
   "id": "7534a79c",
   "metadata": {},
   "outputs": [],
   "source": [
    "#Importing the standard libraries\n",
    "import numpy as np\n",
    "import matplotlib.pyplot as plt\n",
    "%matplotlib qt\n",
    "\n",
    "#Importing the solver modules\n",
    "import system\n",
    "from obe import obe \n",
    "from states import SigmaLevel,PiLevelParity\n",
    "from obe import Excitation\n",
    "import time\n",
    "import warnings\n",
    "warnings.filterwarnings('ignore')"
   ]
  },
  {
   "cell_type": "code",
   "execution_count": 2,
   "id": "411c26f3",
   "metadata": {},
   "outputs": [],
   "source": [
    "b=system.System([0,2],['1/2-'],B_field = [0.0,0.0,61.0],ignore_mF = False)\n",
    "\n",
    "b.sigma_Hamiltonian.generate_bare()\n",
    "b.sigma_Hamiltonian.Zeeman.generate_Zeeman()\n",
    "b.pi_Hamiltonian.generate_bare()\n",
    "b.pi_Hamiltonian.Zeeman.generate_Zeeman()\n",
    "\n",
    "#Next diagonalize the Hamiltonian for this system\n",
    "b.sigma_Hamiltonian.diagonalize()\n",
    "b.pi_Hamiltonian.diagonalize()\n",
    "\n",
    "\n",
    "G = b.sigma_Hamiltonian.diagonalized_states\n",
    "GH = np.round(b.sigma_Hamiltonian.diagonalized_Hamiltonian,3)\n",
    "\n",
    "## Delete the state originally numbered G[13] : mF = -3 and G[23] : mF = +3\n",
    "G.pop(23)\n",
    "G.pop(13)\n",
    "\n",
    "GH = np.delete(GH,23,0); GH = np.delete(GH,23,1)\n",
    "GH = np.delete(GH,13,0); GH = np.delete(GH,13,1)\n",
    "\n",
    "E =b.pi_Hamiltonian.diagonalized_states\n",
    "EH = np.round(b.pi_Hamiltonian.diagonalized_Hamiltonian,3)\n",
    "\n",
    "#b.generate_branching_ratios(G,E)\n",
    "#BR = b.branching_ratios\n",
    "#np.round(BR,3)\n",
    "\n",
    "# Edit entries in GH and EH\n",
    "\n",
    "#GH -= np.amin(np.diag(GH))*np.identity(np.shape(GH)[0])\n",
    "#EH -= np.amin(np.diag(EH))*np.identity(np.shape(EH)[0])"
   ]
  },
  {
   "cell_type": "code",
   "execution_count": 3,
   "id": "21f41044-86b7-4f0b-9ab8-11f0b0f6ef93",
   "metadata": {},
   "outputs": [],
   "source": [
    "GH[0:4,0:4] -= np.amin(np.diag(GH[0:4,0:4]))*np.identity(np.shape(GH[0:4,0:4])[0])\n",
    "GH[4:,4:] -= (np.amin(np.diag(GH[4:,4:]))-500)*np.identity(np.shape(GH[4:,4:])[0])"
   ]
  },
  {
   "cell_type": "code",
   "execution_count": 4,
   "id": "41f4df18-f0da-4885-b238-5303f3479f6b",
   "metadata": {},
   "outputs": [
    {
     "data": {
      "text/plain": [
       "(20.235999999997148+0j)"
      ]
     },
     "execution_count": 4,
     "metadata": {},
     "output_type": "execute_result"
    }
   ],
   "source": [
    "GH[19,19]-GH[18,18]"
   ]
  },
  {
   "cell_type": "code",
   "execution_count": 22,
   "id": "7578a0aa-bef1-4f3e-af02-384c93a6a9d4",
   "metadata": {},
   "outputs": [
    {
     "data": {
      "text/plain": [
       "(-0.9683+0j) |G = 0.5, N = 2, F1 = 1.5, F = 2.0, mF = 2.0> + \n",
       "(-0.1783+0j) |G = 0.5, N = 2, F1 = 2.5, F = 2.0, mF = 2.0> + \n",
       "(0.1749+0j) |G = 0.5, N = 2, F1 = 2.5, F = 3.0, mF = 2.0>"
      ]
     },
     "execution_count": 22,
     "metadata": {},
     "output_type": "execute_result"
    }
   ],
   "source": [
    "G[4]"
   ]
  },
  {
   "cell_type": "code",
   "execution_count": 6,
   "id": "e474f775",
   "metadata": {
    "scrolled": true
   },
   "outputs": [],
   "source": [
    "H0 = np.zeros((len(G)+len(E),len(G)+len(E)),dtype=np.complex_)\n",
    "H0[0:len(G),0:len(G)] = GH\n",
    "H0[len(G):,len(G):] = EH\n",
    "b.generate_interaction_Hamiltonian(G,E)\n",
    "Hint_1=np.round(b.interaction_Hamiltonian,3)\n",
    "n0 = [1/len(G)]*len(G)+[0]*len(E)\n",
    "\n",
    "b.generate_interaction_Hamiltonian(G,E,pol=+1)\n",
    "Hint_2 = np.round(b.interaction_Hamiltonian,3)\n",
    "\n",
    "b.generate_interaction_Hamiltonian(G,E,pol=-1)\n",
    "Hint_3 = np.round(b.interaction_Hamiltonian,3)"
   ]
  },
  {
   "cell_type": "code",
   "execution_count": 7,
   "id": "5bb01588",
   "metadata": {},
   "outputs": [],
   "source": [
    "level_to_optimize = 3\n",
    "myList_1 = []\n",
    "myList_2 = []\n",
    "for i in range(len(G)):\n",
    "    if i != level_to_optimize:\n",
    "        tempList_1 = []\n",
    "        tempList_2 = []\n",
    "        for j in range(len(E)):\n",
    "            #look at the Hint element for z pol light\n",
    "            if np.abs(Hint_1[i,len(G)+j])> 1e-2:\n",
    "                tempList_1.append((i,j))\n",
    "            if np.abs(Hint_2[i,len(G)+j])> 1e-2 or np.abs(Hint_3[i,len(G)+j])> 1e-2:\n",
    "                tempList_2.append((i,j))\n",
    "            \n",
    "        myList_1.append(tempList_1)\n",
    "        myList_2.append(tempList_2)"
   ]
  },
  {
   "cell_type": "code",
   "execution_count": 8,
   "id": "fc726a0c",
   "metadata": {},
   "outputs": [
    {
     "data": {
      "text/plain": [
       "[[(0, 1), (0, 3)],\n",
       " [(1, 0), (1, 2)],\n",
       " [(2, 1), (2, 3)],\n",
       " [(4, 3)],\n",
       " [(5, 0), (5, 2)],\n",
       " [(6, 0), (6, 2)],\n",
       " [(7, 1), (7, 3)],\n",
       " [(8, 1), (8, 3)],\n",
       " [(9, 0), (9, 2)],\n",
       " [(10, 1)],\n",
       " [(11, 0)],\n",
       " [(12, 1)],\n",
       " [(13, 0), (13, 2)],\n",
       " [(14, 1)],\n",
       " [(15, 1), (15, 3)],\n",
       " [(16, 0), (16, 2)],\n",
       " [(17, 1), (17, 3)],\n",
       " [(18, 0), (18, 2)],\n",
       " [(19, 0), (19, 2)],\n",
       " [(20, 3)],\n",
       " [(21, 3)]]"
      ]
     },
     "execution_count": 8,
     "metadata": {},
     "output_type": "execute_result"
    }
   ],
   "source": [
    "myList_2"
   ]
  },
  {
   "cell_type": "code",
   "execution_count": 9,
   "id": "c1aaca17",
   "metadata": {},
   "outputs": [],
   "source": [
    "#to select a random neighbour\n",
    "Gamma = 2*np.pi*2.7\n",
    "tsigma = 1.0*100/Gamma/4 #2 is the number of passes\n",
    "import random\n",
    "def randomize_transition(myList,polarization):\n",
    "    \"\"\" returns a list where each element is  tuple of ground and excited state index for the transition\"\"\"\n",
    "    candidate_fields = []\n",
    "    for item in myList:\n",
    "        if len(item) != 0:\n",
    "            candidate_fields.append(random.choice(item))\n",
    "    #print(candidate_fields)\n",
    "    field = []\n",
    "    for item in candidate_fields:\n",
    "        if len(item) != 0:\n",
    "            (i,j) = item\n",
    "        else:\n",
    "            continue\n",
    "        rabi = random.uniform(0.1, 5.0)*Gamma\n",
    "        pol = polarization\n",
    "        groundState = G[i]\n",
    "        excitedState = E[j]\n",
    "        det = random.uniform(-1,1)*Gamma\n",
    "        pos = 0\n",
    "        dia = 4*tsigma\n",
    "        temp_field = Excitation(rabi,pol,groundState,excitedState,detuning = det,position = pos,diameter = dia ,shape = \"Gaussian\")\n",
    "        field.append(temp_field)\n",
    "    \n",
    "    return field,candidate_fields\n"
   ]
  },
  {
   "cell_type": "code",
   "execution_count": 10,
   "id": "8a3bb212",
   "metadata": {},
   "outputs": [],
   "source": [
    "def flatten(x):\n",
    "    temp_list = []\n",
    "    for item in x:\n",
    "        if type(item) == list:\n",
    "            for temp_item in item:\n",
    "                temp_list.append(temp_item)\n",
    "        else:\n",
    "            temp_list.append(item)\n",
    "    return temp_list\n"
   ]
  },
  {
   "cell_type": "code",
   "execution_count": 11,
   "id": "e61074e8-f137-4a5d-b040-e2dc19fbfd5b",
   "metadata": {},
   "outputs": [],
   "source": [
    "import copy\n",
    "current_field,transitions_Z = randomize_transition(myList_1,0)\n",
    "N_z= len(current_field)\n",
    "temp_field,transitions_sigma = randomize_transition(myList_2,1)\n",
    "current_field.append(temp_field)\n",
    "N_sigma = len(current_field[-1])\n",
    "current_field=flatten(current_field)"
   ]
  },
  {
   "cell_type": "code",
   "execution_count": 12,
   "id": "439c7cf3",
   "metadata": {},
   "outputs": [
    {
     "data": {
      "text/plain": [
       "[(0, 0),\n",
       " (1, 1),\n",
       " (2, 2),\n",
       " (5, 3),\n",
       " (6, 3),\n",
       " (7, 2),\n",
       " (8, 0),\n",
       " (9, 1),\n",
       " (11, 1),\n",
       " (13, 1),\n",
       " (15, 0),\n",
       " (16, 1),\n",
       " (17, 2),\n",
       " (18, 3),\n",
       " (19, 3)]"
      ]
     },
     "execution_count": 12,
     "metadata": {},
     "output_type": "execute_result"
    }
   ],
   "source": [
    "transitions_Z"
   ]
  },
  {
   "cell_type": "code",
   "execution_count": 13,
   "id": "502c7609",
   "metadata": {},
   "outputs": [
    {
     "data": {
      "text/plain": [
       "[(0, 1),\n",
       " (1, 2),\n",
       " (2, 3),\n",
       " (4, 3),\n",
       " (5, 2),\n",
       " (6, 2),\n",
       " (7, 3),\n",
       " (8, 1),\n",
       " (9, 2),\n",
       " (10, 1),\n",
       " (11, 0),\n",
       " (12, 1),\n",
       " (13, 0),\n",
       " (14, 1),\n",
       " (15, 3),\n",
       " (16, 0),\n",
       " (17, 3),\n",
       " (18, 0),\n",
       " (19, 0),\n",
       " (20, 3),\n",
       " (21, 3)]"
      ]
     },
     "execution_count": 13,
     "metadata": {},
     "output_type": "execute_result"
    }
   ],
   "source": [
    "transitions_sigma"
   ]
  },
  {
   "cell_type": "code",
   "execution_count": 15,
   "id": "f8b657b3-1083-48a9-a503-f00a79c2bc17",
   "metadata": {},
   "outputs": [
    {
     "data": {
      "text/plain": [
       "36"
      ]
     },
     "execution_count": 15,
     "metadata": {},
     "output_type": "execute_result"
    }
   ],
   "source": [
    "### only when we want to force a choice of transition\n",
    "\n",
    "desired_Z = [(0, 2),(1, 1),(2, 0),(5, 3),(6, 3),(7, 2),(8, 0),(9, 1),(11, 1),(13, 1),(15, 0),(16, 1),(17, 2),(18, 3),(19, 3)] # 9 transitions\n",
    "desired_sigma = [(0, 3),(1, 2),(2, 3),(4, 3),(5, 2),(6, 2),(7, 1),(8, 3),(9, 0),(10, 1),(11, 0),\n",
    "                 (12, 1),(13, 0),(14, 1),(15, 1),(16, 2),(17, 1),(18, 0),(19, 2),(20, 3),(21, 3)] #11 transitions\n",
    "\n",
    "\n",
    "import copy\n",
    "count = 0\n",
    "while True:\n",
    "    current_field,transitions_Z = randomize_transition(myList_1,0)\n",
    "    N_z= len(current_field)\n",
    "    temp_field,transitions_sigma = randomize_transition(myList_2,1) \n",
    "    current_field.append(temp_field)\n",
    "    N_sigma = len(current_field[-1])\n",
    "    current_field=flatten(current_field)\n",
    "    #print(count)\n",
    "    count += 1\n",
    "    \n",
    "    if transitions_Z == desired_Z and desired_sigma == transitions_sigma:\n",
    "        break\n",
    "    \n",
    "len(current_field) "
   ]
  },
  {
   "cell_type": "code",
   "execution_count": 16,
   "id": "ceffb9fb",
   "metadata": {},
   "outputs": [],
   "source": [
    "#Scan\n",
    "def r22(rabi_det_params:list,Nz,passes=1): #rabi_det_params was a field earlier\n",
    "    #modify the current fields here\n",
    "    for i in range(len(current_field)):\n",
    "            current_field[i].rabi = rabi_det_params[i][0]\n",
    "            current_field[i].detuning = rabi_det_params[i][1]\n",
    "    \n",
    "    field = current_field\n",
    "    package = 'Python'\n",
    "    field1 = field[0:Nz]\n",
    "    field2 = field[Nz:]\n",
    "\n",
    "    X_field = []\n",
    "    for field2_item in field2:\n",
    "        X_field.append(field2_item)\n",
    "        field2_item_pol_reversed = copy.copy(field2_item)\n",
    "        field2_item_pol_reversed.pol *= -1\n",
    "        X_field.append(field2_item_pol_reversed)\n",
    "    \n",
    "    \n",
    "    steps=5000\n",
    "    n=len(E)+len(G)\n",
    "    r_init = np.zeros(np.shape(H0)).astype(np.complex128)\n",
    "    for i in range(len(G)):\n",
    "        r_init[i,i] = 1.0/len(G)\n",
    "    \n",
    "    Hint_Z = None\n",
    "    Hint_X = None\n",
    "    for count in range(passes):\n",
    "        start = time.time()\n",
    "        my_obe_1 = obe(field1,[G,E],H0,Hint_1,BR,Hint_func = Hint_Z)\n",
    "        Hint_Z = my_obe_1.Hint\n",
    "        #rotate r_init in the field basis\n",
    "        \n",
    "        ans = my_obe_1.solve(steps,r_init,max_step_size = 1/Gamma,package=package)\n",
    "        rho = np.array(ans[-1]) #gives the solution at the end of the time\n",
    "        r_init = rho.reshape(n,n)\n",
    "        #stopz = time.time()\n",
    "        #print(f\"Z took: {stopz-start}s\")\n",
    "        #rotate r_init in the normal basis\n",
    "    \n",
    "        my_obe_2 = obe(field2,[G,E],H0,[Hint_2,Hint_3],BR,Hint_func =Hint_X)\n",
    "        Hint_X = my_obe_2.Hint\n",
    "        #rotate r_init in the new field_basis\n",
    "        \n",
    "        ans = my_obe_2.solve(steps,r_init,max_step_size = 1/Gamma,package=package)\n",
    "        rho = np.array(ans[-1]) #gives the solution at the end of the time\n",
    "        r_init = rho.reshape(n,n)\n",
    "        #stopx = time.time()\n",
    "        #print(f\"X took: {stopx-stopz}s\")\n",
    "    \n",
    "    r_level2optimize=np.real(r_init[level_to_optimize,level_to_optimize])\n",
    "    rgg = 0\n",
    "\n",
    "    for temp_count in range(len(G)):\n",
    "        if temp_count != level_to_optimize:\n",
    "            rgg += np.real(r_init[temp_count,temp_count])\n",
    "\n",
    "    \n",
    "    for i in range(len(G)):\n",
    "        print(f\"r_{i}: {np.round(r_init[i,i],5)}\",end = \",\")\n",
    "    print(\"----------\")\n",
    "    \n",
    "    return (r_level2optimize-rgg) #the new version of ax by default maximizes"
   ]
  },
  {
   "cell_type": "markdown",
   "id": "55847771",
   "metadata": {},
   "source": [
    "# Optimization occurs here"
   ]
  },
  {
   "cell_type": "code",
   "execution_count": null,
   "id": "abe8813a",
   "metadata": {
    "scrolled": true
   },
   "outputs": [],
   "source": [
    "from ax.service.ax_client import AxClient\n",
    "\n",
    "ax_client = AxClient()\n",
    "\n",
    "#Create bounds\n",
    "bounds = []\n",
    "for i in range(len(current_field)):\n",
    "    bounds.append({\"name\":\"omega\"+str(i),\"type\":\"range\",\"bounds\":[0.0,15.0],\"value_type\":\"float\"})\n",
    "    #bounds.append({\"name\":\"omega\"+str(i),\"type\":\"choice\",\"values\":np.round(np.arange(0.0,25.0,0.5),1).tolist(),\"value_type\":\"float\"})\n",
    "    bounds.append({\"name\":\"det\"+str(i),\"type\":\"choice\",\"values\":np.round(np.arange(-25.0,25.0,0.5),1).tolist(),\"value_type\":\"float\"})\n",
    "\n",
    "    \n",
    "#create the constraint\n",
    "rabi_per_transition = 15.0\n",
    "constraint_1 = \"\"\n",
    "constraint_2 = \"\"\n",
    "\n",
    "for i in range(N_z):\n",
    "    if i == N_z-1:\n",
    "        constraint_1 += f\"omega{i} <= {rabi_per_transition*N_z}\"\n",
    "    else:\n",
    "        constraint_1 += f\"omega{i} + \"\n",
    "for i in range(N_z,len(current_field)):\n",
    "    if i == len(current_field)-1:\n",
    "        constraint_2 += f\"omega{i} <= {rabi_per_transition*(len(current_field)-N_z)}\"\n",
    "    else:\n",
    "        constraint_2 += f\"omega{i} + \"\n",
    "\n",
    "constraint_array = [constraint_1,constraint_2]    \n",
    "\n",
    "ax_client.create_experiment(\n",
    "    name = \"pumping_experiment\",\n",
    "    parameters = bounds,\n",
    "    parameter_constraints = constraint_array,\n",
    "    )"
   ]
  },
  {
   "cell_type": "code",
   "execution_count": null,
   "id": "6ab86761",
   "metadata": {},
   "outputs": [],
   "source": [
    "ax_client.get_max_parallelism()"
   ]
  },
  {
   "cell_type": "code",
   "execution_count": null,
   "id": "790765f8",
   "metadata": {
    "scrolled": true
   },
   "outputs": [],
   "source": [
    "import copy\n",
    "plt.ion()\n",
    "\n",
    "arr_pop=[]\n",
    "\n",
    "start = time.time()\n",
    "import csv\n",
    "with open('XZ_rabi_det_N0_3.csv','w') as file2write:\n",
    "    file2write.write(\"Pop, (rabi, det) for the fields\\n\")\n",
    "    file2write.write(\"transitions_Z :\"+str(transitions_Z)+\"\\n\")\n",
    "    file2write.write(\"transitions_sigma :\"+str(transitions_sigma)+\"\\n\")\n",
    "    for it in range(600):\n",
    "        parameters,trial_index = ax_client.get_next_trial() #parameters is returned as a dict with kets omega{i} and det{i}\n",
    "        rabi_det_array = [(parameters[f\"omega{i}\"],parameters[f\"det{i}\"]) for i in range(len(current_field))]\n",
    "        \n",
    "        pop = r22(rabi_det_array,N_z,passes=3)\n",
    "        \n",
    "        ax_client.complete_trial(\n",
    "            trial_index = trial_index,\n",
    "            raw_data = pop,\n",
    "            )\n",
    "\n",
    "        array_to_write = copy.deepcopy(rabi_det_array)\n",
    "        array_to_write.insert(0,pop)\n",
    "        \n",
    "        #print(pop)\n",
    "        file2write.write(str(array_to_write)+'\\n')\n",
    "        print(\"------------------------------------------------------------------------------\")\n",
    "        arr_pop.append(pop)\n",
    "        plt.plot(arr_pop,'o-r')\n",
    "        plt.pause(0.01)\n",
    "stop = time.time()\n",
    "print(f\"Execution took {stop-start} s.\")"
   ]
  },
  {
   "cell_type": "code",
   "execution_count": null,
   "id": "d1f6eefa-f476-4c0c-bff9-002cda710116",
   "metadata": {},
   "outputs": [],
   "source": [
    "error"
   ]
  },
  {
   "cell_type": "code",
   "execution_count": null,
   "id": "b9531d10-20c1-4d56-8756-bc84ec4b5322",
   "metadata": {},
   "outputs": [],
   "source": [
    "start = time.time()\n",
    "import csv\n",
    "with open('XZ_rabi_det_N0_3_append.csv','w') as file2write:\n",
    "    file2write.write(\"Pop, (rabi, det) for the fields\\n\")\n",
    "    file2write.write(\"transitions_Z :\"+str(transitions_Z)+\"\\n\")\n",
    "    file2write.write(\"transitions_sigma :\"+str(transitions_sigma)+\"\\n\")\n",
    "    for it in range(200):\n",
    "        parameters,trial_index = ax_client.get_next_trial() #parameters is returned as a dict with kets omega{i} and det{i}\n",
    "        rabi_det_array = [(parameters[f\"omega{i}\"],parameters[f\"det{i}\"]) for i in range(len(current_field))]\n",
    "        \n",
    "        pop = r22(rabi_det_array,N_z,passes=3)\n",
    "        \n",
    "        ax_client.complete_trial(\n",
    "            trial_index = trial_index,\n",
    "            raw_data = pop,\n",
    "            )\n",
    "\n",
    "        array_to_write = copy.deepcopy(rabi_det_array)\n",
    "        array_to_write.insert(0,pop)\n",
    "        \n",
    "        #print(pop)\n",
    "        file2write.write(str(array_to_write)+'\\n')\n",
    "        print(\"------------------------------------------------------------------------------\")\n",
    "        arr_pop.append(pop)\n",
    "        plt.plot(arr_pop,'o-r')\n",
    "        plt.pause(0.01)\n",
    "stop = time.time()\n",
    "print(f\"Execution took {stop-start} s.\")"
   ]
  },
  {
   "cell_type": "code",
   "execution_count": null,
   "id": "4c1afe9f-bf44-4548-8305-2782bb409250",
   "metadata": {},
   "outputs": [],
   "source": [
    "import json\n",
    "ax_client.save_to_json_file(filepath = \"ax_client_state_N0_3.json\")"
   ]
  },
  {
   "cell_type": "code",
   "execution_count": null,
   "id": "70b83000",
   "metadata": {},
   "outputs": [],
   "source": [
    "deliberate error here"
   ]
  },
  {
   "cell_type": "code",
   "execution_count": 17,
   "id": "0082126e",
   "metadata": {},
   "outputs": [
    {
     "name": "stdout",
     "output_type": "stream",
     "text": [
      "0.09778488670521313\n",
      "[(13.639505821701363, -17.0), (10.574050226567605, 24.5), (3.0900295702116995, -4.0), (10.18320687977967, -2.0), (11.348849943046162, 5.5), (3.707701566002574, -2.0), (8.194853714866145, 14.5), (5.961161883399856, -15.0), (10.32827088841913, 18.0), (12.10324066609878, -1.0), (3.8376179808265354, -6.0), (15.0, -2.5), (8.554510414178301, 20.5), (4.932135432754053, 4.0), (4.83844136801365, -5.5), (7.4660444275824105, -1.5), (6.34587805821634, 11.0), (0.6488633414511054, 3.0), (11.722423587349567, -13.0), (13.509809743141373, 19.5), (7.411518555897782, -9.0), (12.077871733584425, -10.5), (2.071609099121555, 6.5), (7.791786993681418, -9.5), (6.057971506356068, -8.5), (3.6550137762489543, -11.0), (5.646564594001668, 12.0), (12.124440035239724, 23.0), (3.1472544136554332, -0.5), (7.2850661225581135, 9.0), (2.191409055773829, 2.0), (7.544199952730505, 8.5), (12.467453792373801, 4.0), (2.9127892952284253, -8.0), (8.465818475742651, -5.0), (7.174429811646148, 11.5)]\n"
     ]
    },
    {
     "data": {
      "text/plain": [
       "[<matplotlib.lines.Line2D at 0x164894310>]"
      ]
     },
     "execution_count": 17,
     "metadata": {},
     "output_type": "execute_result"
    }
   ],
   "source": [
    "f= open('XZ_rabi_det_N0_3.csv')\n",
    "max_val = -1.0\n",
    "max_val_array=[]\n",
    "max_array = []\n",
    "array_all = []\n",
    "for i,line in enumerate(f):\n",
    "    if i < 4:\n",
    "        continue\n",
    "    #print(f\"read upto {i}\")\n",
    "    #print(line)\n",
    "    mylist = eval(line)\n",
    "    array_all.append(mylist)\n",
    "    if mylist[0] > max_val:\n",
    "        max_val = mylist[0]\n",
    "        max_array = mylist\n",
    "        max_val_array.append(max_val)\n",
    "max_val\n",
    "max_array.remove(max_val)\n",
    "max_val,max_array\n",
    "print(max_val)\n",
    "min_array = max_array\n",
    "print(max_array)\n",
    "plt.plot(max_val_array)"
   ]
  },
  {
   "cell_type": "code",
   "execution_count": null,
   "id": "f35de817-08ef-4142-843e-45ebb990e995",
   "metadata": {},
   "outputs": [],
   "source": [
    "start=time.time()\n",
    "r22(max_array,N_z,passes=1)\n",
    "print(time.time()-start)"
   ]
  },
  {
   "cell_type": "code",
   "execution_count": 18,
   "id": "23bb8ce0",
   "metadata": {},
   "outputs": [
    {
     "data": {
      "text/plain": [
       "0.5488924433526066"
      ]
     },
     "execution_count": 18,
     "metadata": {},
     "output_type": "execute_result"
    }
   ],
   "source": [
    "(1+max_val)/2"
   ]
  },
  {
   "cell_type": "markdown",
   "id": "9803aa9f",
   "metadata": {},
   "source": [
    "## For drawing the energy levels"
   ]
  },
  {
   "cell_type": "code",
   "execution_count": 45,
   "id": "1df6ff03",
   "metadata": {},
   "outputs": [],
   "source": [
    "ground_mF = [item.states[0].mF+np.linspace(-1/4,1/4,3) for item in G]\n",
    "ground_Energy = np.array([GH[i,i] for i in range(len(G))])\n",
    "ground_Energy -= np.mean(ground_Energy)\n",
    "min_ground_energy = np.amin(ground_Energy)\n",
    "max_ground_energy = np.amax(ground_Energy)\n",
    "\n",
    "excited_mF = [item.states[0].mF+np.linspace(-1/4,1/4,3) for item in E]\n",
    "excited_Energy = np.array([EH[i,i] for i in range(len(E))])\n",
    "excited_Energy -= np.mean(excited_Energy) - 1*np.abs(max_ground_energy-min_ground_energy)\n",
    "\n",
    "rabi_det_params = max_array # --------the solution from the optimization-----------------\n",
    "for i in range(len(current_field)):\n",
    "            current_field[i].rabi = rabi_det_params[i][0]\n",
    "            current_field[i].detuning = rabi_det_params[i][1]\n",
    "            \n",
    "#Plot the energy levels\n",
    "\n",
    "def plot_energy_levels():\n",
    "    for i in range(len(G)):\n",
    "        plt.plot(ground_mF[i],ground_Energy[i]+np.zeros(3))\n",
    "        plt.text(ground_mF[i][1]+0.0*np.random.random(),ground_Energy[i]-10,f\"G[{i}]\",fontsize = 9)\n",
    "    for j in range(len(E)):\n",
    "        plt.plot(excited_mF[j],excited_Energy[j]+np.zeros(3))\n",
    "        plt.text(excited_mF[j][1]+0.0*np.random.random(),excited_Energy[j]-10,f\"E[{j}]\",fontsize = 9)\n",
    "    plt.text(1.8,800,r\"$J = 1/2^-$\",fontsize = 12,color='red')\n",
    "    plt.text(1.8,170,r\"$\\~{J} = 5/2$\",fontsize = 12,color='red')\n",
    "    plt.text(1.8,-50,r\"$\\~{J} = 3/2$\",fontsize = 12,color='red')\n",
    "    plt.text(1.8,-500,r\"$J = 1/2$\",fontsize = 12,color='red')\n",
    "    plt.xlabel(\"mF\",fontsize=14)\n",
    "    plt.ylabel(\"Energy (not to scale)\",fontsize=14)\n",
    "    plt.xticks(fontsize=14)\n",
    "    plt.yticks(fontsize=14)\n",
    "\n",
    "rabis = []\n",
    "for i in range(0,len(max_array),2):\n",
    "    rabis.append(min_array[i])\n",
    "max_rabi = np.amax(np.abs(np.array(rabis)))\n",
    "    \n",
    "# Plot the z transitions\n",
    "plot_energy_levels()\n",
    "for idx,item in enumerate(transitions_Z):\n",
    "    i,j = item\n",
    "    offset = random.uniform(-0.25,0.25)\n",
    "    x = [ground_mF[i][1]+offset,excited_mF[j][1]+offset]\n",
    "    y = [ground_Energy[i],excited_Energy[j]+current_field[idx].detuning]\n",
    "    alphaval = 1;#np.abs(current_field[idx].rabi/max_rabi)\n",
    "    linewidthval = np.abs(current_field[idx].rabi/max_rabi*4)\n",
    "    plt.plot(x,y,alpha =alphaval ,linewidth = linewidthval)\n",
    "    plt.tight_layout()\n",
    "    plt.title(\"Transitions coupled by z-polarized beam\")\n",
    "    plt.savefig('z_pol.png',dpi = 300)\n",
    "\n",
    "plt.figure()\n",
    "#Plot sigma transitions\n",
    "plot_energy_levels()\n",
    "for idx,item in enumerate(transitions_sigma):\n",
    "    i,j = item\n",
    "    offset = random.uniform(-0.05,0.05)\n",
    "    x = [ground_mF[i][1]+offset,excited_mF[j][1]+offset]\n",
    "    y = [ground_Energy[i],excited_Energy[j]+current_field[idx+N_z].detuning]\n",
    "    alphaval = 1;#np.abs(current_field[idx+N_z].rabi/max_rabi)\n",
    "    linewidthval = np.abs(current_field[idx+N_z].rabi/max_rabi*4)\n",
    "    plt.plot(x,y,alpha =alphaval ,linewidth = linewidthval)\n",
    "    plt.tight_layout()\n",
    "    plt.title(r\"Transitions coupled by x-polarized beam \\\\ (showing $\\sigma^+$ or $\\sigma^-$ component only\")\n",
    "    plt.savefig('x_pol.png',dpi = 300)\n",
    "    #plt.plot(x,y,alpha = np.abs(current_field[idx+N_z].rabi/max_rabi),linewidth = np.abs(current_field[idx+N_z].rabi/max_rabi*10))"
   ]
  },
  {
   "cell_type": "markdown",
   "id": "0c5e4044",
   "metadata": {},
   "source": [
    "## Read from the data file from the bayesian optimization"
   ]
  },
  {
   "cell_type": "code",
   "execution_count": null,
   "id": "5a0d71cc",
   "metadata": {},
   "outputs": [],
   "source": [
    "f= open('XZ_rabi_det_N0_3_office_ax_resume.csv')\n",
    "all_array = []\n",
    "for i,line in enumerate(f):\n",
    "    if i < 4:\n",
    "        continue\n",
    "    mylist = eval(line)\n",
    "    all_array.append(mylist)\n",
    "sorted(all_array, key=lambda item: item[0])\n",
    "#all_array = sorted(all_array)\n",
    "#min_array = all_array[1]\n",
    "#print(min_array[0])\n",
    "#min_array.pop(0)\n",
    "#min_array[1] = (12.65,0)\n",
    "#for i in range(len(min_array)):\n",
    "#    (a,b) = min_array[i]\n",
    "#    min_array[i] = (round(a,1),round(b,1))\n",
    "#min_array"
   ]
  },
  {
   "cell_type": "code",
   "execution_count": null,
   "id": "bfad3730-ce72-44f8-bfbb-9c7e5f8d1f75",
   "metadata": {},
   "outputs": [],
   "source": [
    "all_array[-3].remove(all_array[-3][0])\n",
    "all_array[-3]"
   ]
  },
  {
   "cell_type": "code",
   "execution_count": null,
   "id": "9fb1fbd6",
   "metadata": {},
   "outputs": [],
   "source": [
    "for j in range(1,10):\n",
    "    all_array[-j].remove(all_array[-j][0])\n",
    "    print(all_array[-j])\n",
    "    r22(all_array[-j],N_z,passes=3)\n"
   ]
  },
  {
   "cell_type": "code",
   "execution_count": null,
   "id": "1c0b7034",
   "metadata": {},
   "outputs": [],
   "source": [
    "current_field[1]"
   ]
  },
  {
   "cell_type": "markdown",
   "id": "87d2f1cf",
   "metadata": {},
   "source": [
    "## Implement gradient descent with the optimal solution and small learning step size"
   ]
  },
  {
   "cell_type": "code",
   "execution_count": null,
   "id": "974c22a0",
   "metadata": {},
   "outputs": [],
   "source": [
    "plt.ion()\n",
    "import copy\n",
    "from joblib import Parallel, delayed\n",
    "import multiprocessing\n",
    "N_processor = -1 #now use all the processors\n",
    "#calculate gradient of p\n",
    "def grad(rabi_det_params,Nz,passes=1):\n",
    "    \n",
    "    grad_fields = []\n",
    "    temp_field = copy.deepcopy(rabi_det_params)\n",
    "    \n",
    "    p = r22(rabi_det_params,Nz,passes)\n",
    "    step_size=0.01\n",
    "    count = 0\n",
    "    N=len(rabi_det_params)\n",
    "    \n",
    "    for i in range(N): #even incides are rabis and odd indices are detunings\n",
    "        temp_field[i][0] += step_size  # The rabi frequency\n",
    "        grad_fields.append([copy.copy(item) for item in temp_field])\n",
    "        temp_field = copy.deepcopy(rabi_det_params)\n",
    "        \n",
    "        temp_field[i][1] += step_size # the detuning\n",
    "        grad_fields.append([copy.copy(item) for item in temp_field])\n",
    "        temp_field = copy.deepcopy(rabi_det_params)\n",
    "       \n",
    "    #print(grad_fields)\n",
    "    increament_vals= Parallel(n_jobs = N_processor)(delayed(r22)(iteration_field,N_z,passes) for iteration_field in grad_fields)\n",
    "    increament_vals = np.array(increament_vals).reshape(N,2)\n",
    "    \n",
    "    current_vals = p*np.ones(2*N).reshape(N,2)\n",
    "    dX = step_size*np.ones(2*N).reshape(N,2)\n",
    "    gradient_p = (increament_vals - current_vals)/dX\n",
    "        \n",
    "    return p,gradient_p\n",
    "        \n",
    "learn_rate = 0.003#*np.ones(len(min_array))\n",
    "current_array = np.array(min_array)\n",
    "\"\"\"\n",
    "current_array = np.array([ 5.75788161e+00, -1.00561741e+00, -4.65819174e-02, -1.13462899e+01,\n",
    "       -5.34771998e-02, -3.30470704e+00,  3.92047082e+00, -1.26412562e+00,\n",
    "        9.32853136e+00, -1.80212259e+00,  6.01684382e+00, -2.08144123e+01,\n",
    "        9.34802445e+00,  1.91518091e+01, -4.14091218e-02,  3.31665994e+00,\n",
    "        6.65766154e+00, -1.90843448e+01,  5.84269621e+00, -1.99850969e+01,\n",
    "        9.28915766e+00, -1.97303426e+01,  8.52778113e+00, -2.03186644e+01,\n",
    "       -1.19106262e-02, -2.00030886e+01,  3.26836954e+00, -1.34928476e+01,\n",
    "        6.67525090e-03,  8.00142427e+00,  5.54601577e+00,  1.89538351e+01,\n",
    "        3.98001456e+00, -1.98822238e+01,  1.08846042e+01,  6.28568895e+00])\n",
    "\"\"\"\n",
    "arr=[]\n",
    "iter_max = 1000\n",
    "for it in range(iter_max):\n",
    "    print(current_array)\n",
    "    pop,gradient = grad(current_array,N_z,passes = 1)\n",
    "    \n",
    "    current_array -= learn_rate*gradient\n",
    "    \n",
    "    arr.append(pop)\n",
    "    print(it,np.round(pop,3),end=\",\")\n",
    "    plt.clf()\n",
    "    plt.plot(arr,'-o')\n",
    "    plt.show()\n",
    "    plt.pause(0.01)"
   ]
  },
  {
   "cell_type": "code",
   "execution_count": null,
   "id": "b0a43673",
   "metadata": {},
   "outputs": [],
   "source": [
    "transitions_Z"
   ]
  },
  {
   "cell_type": "code",
   "execution_count": null,
   "id": "31d89cbe",
   "metadata": {},
   "outputs": [],
   "source": [
    "with open('test.csv','w') as file2write:\n",
    "    file2write.write(\"transitions_Z :\"+str(transitions_Z)+\"\\n\")\n",
    "    file2write.write(\"transitions_sigma :\"+str(transitions_sigma)+\"\\n\")"
   ]
  },
  {
   "cell_type": "code",
   "execution_count": null,
   "id": "9b1ff351",
   "metadata": {},
   "outputs": [],
   "source": [
    "dir(transitions_Z)"
   ]
  },
  {
   "cell_type": "code",
   "execution_count": null,
   "id": "35fba4d9",
   "metadata": {},
   "outputs": [],
   "source": [
    "str(transitions_Z)"
   ]
  }
 ],
 "metadata": {
  "kernelspec": {
   "display_name": "Python 3 (ipykernel)",
   "language": "python",
   "name": "python3"
  },
  "language_info": {
   "codemirror_mode": {
    "name": "ipython",
    "version": 3
   },
   "file_extension": ".py",
   "mimetype": "text/x-python",
   "name": "python",
   "nbconvert_exporter": "python",
   "pygments_lexer": "ipython3",
   "version": "3.11.7"
  }
 },
 "nbformat": 4,
 "nbformat_minor": 5
}
